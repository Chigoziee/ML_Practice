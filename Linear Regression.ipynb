{
 "cells": [
  {
   "cell_type": "code",
   "execution_count": 17,
   "id": "2b21b5a4",
   "metadata": {},
   "outputs": [
    {
     "name": "stdout",
     "output_type": "stream",
     "text": [
      "Cost of training data: 3.4595819270340153\n"
     ]
    },
    {
     "data": {
      "image/png": "[encoded data removed]",
      "text/plain": [
       "<Figure size 432x288 with 1 Axes>"
      ]
     },
     "metadata": {},
     "output_type": "display_data"
    }
   ],
   "source": [
    "import numpy as np\n",
    "import pandas as pd\n",
    "import matplotlib.pyplot as plt\n",
    "from matplotlib import style\n",
    "from sklearn.preprocessing import StandardScaler\n",
    "from sklearn.model_selection import train_test_split\n",
    "\n",
    "style.use('ggplot')\n",
    "data = pd.read_csv(\"ex1data1.csv\")\n",
    "x2 = data.iloc[:,0]\n",
    "y = data.iloc[:,-1]\n",
    "alpha = 0.01\n",
    "m = len(y)\n",
    "theta = np.zeros(2)\n",
    "iterations = 5000\n",
    "lamda = 0.00\n",
    "y = np.array(y).reshape(-1, 1)\n",
    "X = np.array(x2).reshape(-1, 1)\n",
    "x1 = np.ones(m).reshape(-1, 1)\n",
    "X = np.concatenate((X, x1), axis = 1)\n",
    "\n",
    "for i in range(1, iterations):\n",
    "    hypo = np.sum(X*theta, axis = 1).reshape(-1, 1)\n",
    "    theta = theta - alpha*(1/m * np.sum((hypo-y)*X, axis = 0)+(lamda/m)*theta)\n",
    "    cost = (np.sum((hypo - y)**2) + lamda * np.sum(np.square(theta[1])))/(2*m)\n",
    "print(f'Cost of training data: {cost}')\n",
    "        \n",
    "y_pred = np.sum(X*theta, axis = 1).reshape(-1, 1)\n",
    "plt.scatter(x2, y, color ='r')\n",
    "plt.plot(x2, y_pred, color = 'k')\n",
    "plt.show()\n",
    "\n"
   ]
  },
  {
   "cell_type": "code",
   "execution_count": 18,
   "id": "861a13e9",
   "metadata": {},
   "outputs": [
    {
     "data": {
      "text/plain": [
       "[<matplotlib.lines.Line2D at 0x1fb141d9d90>]"
      ]
     },
     "execution_count": 18,
     "metadata": {},
     "output_type": "execute_result"
    },
    {
     "data": {
      "image/png": "[encoded data removed]",
      "text/plain": [
       "<Figure size 432x288 with 1 Axes>"
      ]
     },
     "metadata": {},
     "output_type": "display_data"
    }
   ],
   "source": [
    "\n",
    "m_learn = np.arange(m)\n",
    "m_learn = np.delete(m_learn, 0)\n",
    "cost_learn = []\n",
    "for v in m_learn:\n",
    "    hypo = np.sum(X[v,:]*theta).reshape(-1, 1)\n",
    "    cost_learn1 = np.sum((hypo - y[v,:])**2)*1/(2*v)\n",
    "    cost_learn = np.concatenate((cost_learn, cost_learn1), axis = None)\n",
    "\n",
    "    \n",
    "plt.plot(m_learn, cost_learn)\n"
   ]
  },
  {
   "cell_type": "code",
   "execution_count": 16,
   "id": "aabdd1b5",
   "metadata": {},
   "outputs": [
    {
     "name": "stdout",
     "output_type": "stream",
     "text": [
      "mean_squared_error :  0.2872342023736014\n",
      "mean_absolute_error :  0.45218386649096076\n",
      "Coefficients :  [[ 0.969 -0.066]]\n",
      "intercept :  [0.083]\n"
     ]
    }
   ],
   "source": [
    "# importing modules and packages\n",
    "import pandas as pd\n",
    "import numpy as np\n",
    "import matplotlib.pyplot as plt\n",
    "import seaborn as sns\n",
    "from sklearn.model_selection import train_test_split\n",
    "from sklearn.linear_model import LinearRegression\n",
    "from sklearn.metrics import mean_squared_error, mean_absolute_error\n",
    "from sklearn import preprocessing\n",
    "import pickle\n",
    "\n",
    "# importing data\n",
    "df = pd.read_csv('ex1data2.csv')\n",
    "\n",
    "# creating feature variables\n",
    "X = df.iloc[:, :-1]\n",
    "y = df.iloc[:, -1]\n",
    "#(X, y) = (x1.values, y.values)\n",
    "y = np.array(y).reshape(-1, 1)\n",
    "\n",
    "scaler = StandardScaler().fit(X)\n",
    "X = scaler.transform(X)\n",
    "np.set_printoptions(precision = 3)\n",
    "scaler = StandardScaler().fit(y)\n",
    "y = scaler.transform(y)\n",
    "np.set_printoptions(precision = 3)\n",
    "\n",
    "# creating train and test sets\n",
    "X_train, X_test, y_train, y_test = train_test_split(\n",
    "\tX, y, test_size=0.3, random_state=101)\n",
    "\n",
    "# creating a regression model\n",
    "model = LinearRegression()\n",
    "\n",
    "# fitting the model\n",
    "model.fit(X_train, y_train)\n",
    "print(model.score(X_test, y_test))\n",
    "\n",
    "#saving my model as my_model\n",
    "with open('my_model.pickle', 'wb') as f:\n",
    "    pickle.dump(model, f)\n",
    "\n",
    "#loading my model \n",
    "pickle_in = open('my_model.pickle','rb')\n",
    "model = pickle.load(pickle_in)\n",
    "\n",
    "# making predictions\n",
    "predictions = model.predict(X_test)\n",
    "\n",
    "# model evaluation\n",
    "print('mean_squared_error : ', mean_squared_error(y_test, predictions))\n",
    "print('mean_absolute_error : ', mean_absolute_error(y_test, predictions))\n",
    "\n",
    "print('Coefficients : ', model.coef_)\n",
    "print('intercept : ', model.intercept_)"
   ]
  }
 ],
 "metadata": {
  "kernelspec": {
   "display_name": "Python 3 (ipykernel)",
   "language": "python",
   "name": "python3"
  },
  "language_info": {
   "codemirror_mode": {
    "name": "ipython",
    "version": 3
   },
   "file_extension": ".py",
   "mimetype": "text/x-python",
   "name": "python",
   "nbconvert_exporter": "python",
   "pygments_lexer": "ipython3",
   "version": "3.10.4"
  }
 },
 "nbformat": 4,
 "nbformat_minor": 5
}
